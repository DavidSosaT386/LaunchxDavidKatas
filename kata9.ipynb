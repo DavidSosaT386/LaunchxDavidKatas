{
 "cells": [
  {
   "cell_type": "markdown",
   "metadata": {},
   "source": [
    "## Ejercicio: Uso de funciones en Python\n",
    "Comienza por crear una función que necesite tres lecturas de combustible y devuelva un informe:\n",
    "Función para leer 3 tanques de combustible y muestre el promedio"
   ]
  },
  {
   "cell_type": "code",
   "execution_count": 3,
   "metadata": {},
   "outputs": [],
   "source": [
    "def tank_report(tank1, tank2, tank3):\n",
    "    promedio =  (tank1+tank2+tank3)/3\n",
    "    return f\"\"\"\n",
    "    promedio de combustible: {promedio}%\n",
    "    cantidad del primer tanque: {tank1}%\n",
    "    cantidad del segundo tanque {tank2}%\n",
    "    cantidad del tercer tanque {tank3}% \"\"\"\n",
    "\n"
   ]
  },
  {
   "cell_type": "markdown",
   "metadata": {},
   "source": [
    "Ahora que hemos definido la función de informes, vamos a comprobarlo. Para esta misión, los tanques no están llenos:"
   ]
  },
  {
   "cell_type": "code",
   "execution_count": 4,
   "metadata": {},
   "outputs": [
    {
     "name": "stdout",
     "output_type": "stream",
     "text": [
      "\n",
      "    promedio de combustible: 66.66666666666667%\n",
      "    cantidad del primer tanque: 50%\n",
      "    cantidad del segundo tanque 100%\n",
      "    cantidad del tercer tanque 50% \n"
     ]
    }
   ],
   "source": [
    "print(tank_report(50,100,50))"
   ]
  },
  {
   "cell_type": "markdown",
   "metadata": {},
   "source": [
    "En lugar de simplemente crear el informe, la función también está calculando el promedio. Mejora la legibilidad extrayendo el cálculo promedio de la función en una nueva función para que el promedio se pueda hacer de forma independiente:"
   ]
  },
  {
   "cell_type": "code",
   "execution_count": 7,
   "metadata": {},
   "outputs": [
    {
     "name": "stdout",
     "output_type": "stream",
     "text": [
      "75.0\n"
     ]
    }
   ],
   "source": [
    "def media(valores):\n",
    "    total = sum(valores)\n",
    "    cantidad =  len(valores)\n",
    "    return total/cantidad\n",
    "\n",
    "print(media([50,100,50,100]))   "
   ]
  },
  {
   "cell_type": "markdown",
   "metadata": {},
   "source": [
    "Ahora actualiza la función de informes para llamando a la nueva función del promedio:"
   ]
  },
  {
   "cell_type": "code",
   "execution_count": 9,
   "metadata": {},
   "outputs": [
    {
     "name": "stdout",
     "output_type": "stream",
     "text": [
      "\n",
      "    promedio de combustible: 66.66666666666667%\n",
      "    cantidad del primer tanque: 50%\n",
      "    cantidad del segundo tanque 100%\n",
      "    cantidad del tercer tanque 50% \n"
     ]
    }
   ],
   "source": [
    "def report(tank1,tank2,tank3):\n",
    "    return f\"\"\"\n",
    "    promedio de combustible: {media([tank1,tank2,tank3])}%\n",
    "    cantidad del primer tanque: {tank1}%\n",
    "    cantidad del segundo tanque {tank2}%\n",
    "    cantidad del tercer tanque {tank3}% \"\"\"\n",
    "\n",
    "print(report(50, 100, 50))  "
   ]
  },
  {
   "cell_type": "markdown",
   "metadata": {},
   "source": [
    "En este ejercicio, construirás un informe de cohete que requiere varias piezas de información, como el tiempo hasta el destino, el combustible a la izquierda y el nombre del destino. Comienza por crear una función que creará un informe preciso de la misión:\n",
    "Función con un informe preciso de la misión. Considera hora de prelanzamiento, tiempo de vuelo, destino, tanque externo y tanque interno"
   ]
  },
  {
   "cell_type": "code",
   "execution_count": 11,
   "metadata": {},
   "outputs": [
    {
     "name": "stdout",
     "output_type": "stream",
     "text": [
      "\n",
      "    mission to Los angeles \n",
      "    travel time: 140 minutes\n",
      "    fuel: 120 gallons left\n"
     ]
    }
   ],
   "source": [
    "def mission_report(preLaunch, timeFliying, destination, externalTank, internalTank):\n",
    "    return f\"\"\"\n",
    "    mission to {destination} \n",
    "    travel time: {preLaunch+timeFliying} minutes\n",
    "    fuel: {externalTank+internalTank} gallons left\"\"\"\n",
    "\n",
    "print(mission_report(50,90,\"Los angeles\", 70,50))    "
   ]
  },
  {
   "cell_type": "markdown",
   "metadata": {},
   "source": [
    "a función es problemática porque no se puede adaptar para minutos adicionales o tanques adicionales de combustible. Hazlo más flexible permitiendo cualquier número de pasos basados en el tiempo y cualquier número de tanques. En lugar de usar *args y **kwargs, aprovecha el hecho de que puedes usar cualquier nombre que desees. Asegurate que la función sea más legible mediante el uso de nombres de variables que están asociados con las entradas, como *minutes y **fuel_reservoirs:"
   ]
  },
  {
   "cell_type": "code",
   "execution_count": 12,
   "metadata": {},
   "outputs": [
    {
     "name": "stdout",
     "output_type": "stream",
     "text": [
      "\n",
      "    mission to Canada \n",
      "    travel time: 90 minutes\n",
      "    fuel: 220 gallons left\n"
     ]
    }
   ],
   "source": [
    "def mission2_report(destination, *minutes, **fuel_reservoirs):\n",
    "    return f\"\"\"\n",
    "    mission to {destination} \n",
    "    travel time: {sum(minutes)} minutes\n",
    "    fuel: {sum(fuel_reservoirs.values())} gallons left\"\"\"\n",
    "\n",
    "print(mission2_report(\"Canada\",30,50,10,external=80,internal=90,reservoir=50))    \n"
   ]
  },
  {
   "cell_type": "markdown",
   "metadata": {},
   "source": [
    "Debido a que el combustible que queda en los tanques es específico de cada tanque, actualiza la función para usar el nombre de cada tanque en el informe:"
   ]
  },
  {
   "cell_type": "code",
   "execution_count": 15,
   "metadata": {},
   "outputs": [
    {
     "name": "stdout",
     "output_type": "stream",
     "text": [
      "\n",
      "    mission to Canada \n",
      "    travel time: 90 minutes\n",
      "    fuel: 220 gallons left\n",
      "external tank have 80 gallons left\n",
      "internal tank have 90 gallons left\n",
      "reservoir tank have 50 gallons left\n"
     ]
    }
   ],
   "source": [
    "def mission3_report(destination, *minutes, **fuel_reservoirs):\n",
    "    report= f\"\"\"\n",
    "    mission to {destination} \n",
    "    travel time: {sum(minutes)} minutes\n",
    "    fuel: {sum(fuel_reservoirs.values())} gallons left\"\"\"\n",
    "    for tank,gallons in fuel_reservoirs.items():\n",
    "        report+= f\"\\n{tank} tank have {gallons} gallons left\"\n",
    "    return report\n",
    "\n",
    "print(mission3_report(\"Canada\",30,50,10,external=80,internal=90,reservoir=50))    "
   ]
  }
 ],
 "metadata": {
  "interpreter": {
   "hash": "221824e828e850b004d00d0aecd4755a4e7e5a3291c9ef5a3b3b8c3c8461644c"
  },
  "kernelspec": {
   "display_name": "Python 3.7.6 64-bit",
   "language": "python",
   "name": "python3"
  },
  "language_info": {
   "codemirror_mode": {
    "name": "ipython",
    "version": 3
   },
   "file_extension": ".py",
   "mimetype": "text/x-python",
   "name": "python",
   "nbconvert_exporter": "python",
   "pygments_lexer": "ipython3",
   "version": "3.7.6"
  },
  "orig_nbformat": 4
 },
 "nbformat": 4,
 "nbformat_minor": 2
}
